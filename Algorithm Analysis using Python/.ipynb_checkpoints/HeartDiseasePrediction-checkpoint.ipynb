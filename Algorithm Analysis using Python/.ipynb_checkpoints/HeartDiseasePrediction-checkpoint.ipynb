{
 "cells": [
  {
   "cell_type": "code",
   "execution_count": 1,
   "metadata": {},
   "outputs": [],
   "source": [
    "import numpy as np\n",
    "import matplotlib.pyplot as plt\n",
    "import pandas as pd\n",
    "import seaborn as sns"
   ]
  },
  {
   "cell_type": "code",
   "execution_count": 2,
   "metadata": {},
   "outputs": [],
   "source": [
    "# Read dataset\n",
    "dataset = pd.read_csv('dataset1.csv')\n",
    "#read csv file\n",
    "#Dataset contains following features:\n",
    "#age — age in years\n",
    "#sex — (1 = male; 0 = female)\n",
    "#cp — chest pain type\n",
    "#trestbps — resting blood pressure (in mm Hg on admission to the hospital)\n",
    "#chol — serum cholestoral in mg/dl\n",
    "#fbs — (fasting blood sugar > 120 mg/dl) (1 = true; 0 = false)\n",
    "#restecg — resting electrocardiographic results\n",
    "#thalach — maximum heart rate achieved\n",
    "#exang — exercise induced angina (1 = yes; 0 = no)\n",
    "#oldpeak — ST depression induced by exercise relative to rest\n",
    "#slope — the slope of the peak exercise ST segment\n",
    "#ca — number of major vessels (0–3) colored by flourosopy\n",
    "#thal — 3 = normal; 6 = fixed defect; 7 = reversable defect\n",
    "#target — have disease or not (1=yes, 0=no)"
   ]
  },
  {
   "cell_type": "code",
   "execution_count": 3,
   "metadata": {},
   "outputs": [
    {
     "data": {
      "text/html": [
       "<div>\n",
       "<style scoped>\n",
       "    .dataframe tbody tr th:only-of-type {\n",
       "        vertical-align: middle;\n",
       "    }\n",
       "\n",
       "    .dataframe tbody tr th {\n",
       "        vertical-align: top;\n",
       "    }\n",
       "\n",
       "    .dataframe thead th {\n",
       "        text-align: right;\n",
       "    }\n",
       "</style>\n",
       "<table border=\"1\" class=\"dataframe\">\n",
       "  <thead>\n",
       "    <tr style=\"text-align: right;\">\n",
       "      <th></th>\n",
       "      <th>age</th>\n",
       "      <th>sex</th>\n",
       "      <th>cp</th>\n",
       "      <th>trestbps</th>\n",
       "      <th>chol</th>\n",
       "      <th>fbs</th>\n",
       "      <th>restecg</th>\n",
       "      <th>thalach</th>\n",
       "      <th>exang</th>\n",
       "      <th>oldpeak</th>\n",
       "      <th>slope</th>\n",
       "      <th>ca</th>\n",
       "      <th>thal</th>\n",
       "      <th>target</th>\n",
       "    </tr>\n",
       "  </thead>\n",
       "  <tbody>\n",
       "    <tr>\n",
       "      <th>0</th>\n",
       "      <td>63</td>\n",
       "      <td>1</td>\n",
       "      <td>3</td>\n",
       "      <td>145</td>\n",
       "      <td>233</td>\n",
       "      <td>1</td>\n",
       "      <td>0</td>\n",
       "      <td>150</td>\n",
       "      <td>0</td>\n",
       "      <td>2.3</td>\n",
       "      <td>0</td>\n",
       "      <td>0</td>\n",
       "      <td>1</td>\n",
       "      <td>1</td>\n",
       "    </tr>\n",
       "    <tr>\n",
       "      <th>1</th>\n",
       "      <td>37</td>\n",
       "      <td>1</td>\n",
       "      <td>2</td>\n",
       "      <td>130</td>\n",
       "      <td>250</td>\n",
       "      <td>0</td>\n",
       "      <td>1</td>\n",
       "      <td>187</td>\n",
       "      <td>0</td>\n",
       "      <td>3.5</td>\n",
       "      <td>0</td>\n",
       "      <td>0</td>\n",
       "      <td>2</td>\n",
       "      <td>1</td>\n",
       "    </tr>\n",
       "    <tr>\n",
       "      <th>2</th>\n",
       "      <td>41</td>\n",
       "      <td>0</td>\n",
       "      <td>1</td>\n",
       "      <td>130</td>\n",
       "      <td>204</td>\n",
       "      <td>0</td>\n",
       "      <td>0</td>\n",
       "      <td>172</td>\n",
       "      <td>0</td>\n",
       "      <td>1.4</td>\n",
       "      <td>2</td>\n",
       "      <td>0</td>\n",
       "      <td>2</td>\n",
       "      <td>1</td>\n",
       "    </tr>\n",
       "    <tr>\n",
       "      <th>3</th>\n",
       "      <td>56</td>\n",
       "      <td>1</td>\n",
       "      <td>1</td>\n",
       "      <td>120</td>\n",
       "      <td>236</td>\n",
       "      <td>0</td>\n",
       "      <td>1</td>\n",
       "      <td>178</td>\n",
       "      <td>0</td>\n",
       "      <td>0.8</td>\n",
       "      <td>2</td>\n",
       "      <td>0</td>\n",
       "      <td>2</td>\n",
       "      <td>1</td>\n",
       "    </tr>\n",
       "    <tr>\n",
       "      <th>4</th>\n",
       "      <td>57</td>\n",
       "      <td>0</td>\n",
       "      <td>0</td>\n",
       "      <td>120</td>\n",
       "      <td>354</td>\n",
       "      <td>0</td>\n",
       "      <td>1</td>\n",
       "      <td>163</td>\n",
       "      <td>1</td>\n",
       "      <td>0.6</td>\n",
       "      <td>2</td>\n",
       "      <td>0</td>\n",
       "      <td>2</td>\n",
       "      <td>1</td>\n",
       "    </tr>\n",
       "    <tr>\n",
       "      <th>5</th>\n",
       "      <td>57</td>\n",
       "      <td>1</td>\n",
       "      <td>0</td>\n",
       "      <td>140</td>\n",
       "      <td>192</td>\n",
       "      <td>0</td>\n",
       "      <td>1</td>\n",
       "      <td>148</td>\n",
       "      <td>0</td>\n",
       "      <td>0.4</td>\n",
       "      <td>1</td>\n",
       "      <td>0</td>\n",
       "      <td>1</td>\n",
       "      <td>1</td>\n",
       "    </tr>\n",
       "    <tr>\n",
       "      <th>6</th>\n",
       "      <td>56</td>\n",
       "      <td>0</td>\n",
       "      <td>1</td>\n",
       "      <td>140</td>\n",
       "      <td>294</td>\n",
       "      <td>0</td>\n",
       "      <td>0</td>\n",
       "      <td>153</td>\n",
       "      <td>0</td>\n",
       "      <td>1.3</td>\n",
       "      <td>1</td>\n",
       "      <td>0</td>\n",
       "      <td>2</td>\n",
       "      <td>1</td>\n",
       "    </tr>\n",
       "    <tr>\n",
       "      <th>7</th>\n",
       "      <td>44</td>\n",
       "      <td>1</td>\n",
       "      <td>1</td>\n",
       "      <td>120</td>\n",
       "      <td>263</td>\n",
       "      <td>0</td>\n",
       "      <td>1</td>\n",
       "      <td>173</td>\n",
       "      <td>0</td>\n",
       "      <td>0.0</td>\n",
       "      <td>2</td>\n",
       "      <td>0</td>\n",
       "      <td>3</td>\n",
       "      <td>1</td>\n",
       "    </tr>\n",
       "    <tr>\n",
       "      <th>8</th>\n",
       "      <td>52</td>\n",
       "      <td>1</td>\n",
       "      <td>2</td>\n",
       "      <td>172</td>\n",
       "      <td>199</td>\n",
       "      <td>1</td>\n",
       "      <td>1</td>\n",
       "      <td>162</td>\n",
       "      <td>0</td>\n",
       "      <td>0.5</td>\n",
       "      <td>2</td>\n",
       "      <td>0</td>\n",
       "      <td>3</td>\n",
       "      <td>1</td>\n",
       "    </tr>\n",
       "    <tr>\n",
       "      <th>9</th>\n",
       "      <td>57</td>\n",
       "      <td>1</td>\n",
       "      <td>2</td>\n",
       "      <td>150</td>\n",
       "      <td>168</td>\n",
       "      <td>0</td>\n",
       "      <td>1</td>\n",
       "      <td>174</td>\n",
       "      <td>0</td>\n",
       "      <td>1.6</td>\n",
       "      <td>2</td>\n",
       "      <td>0</td>\n",
       "      <td>2</td>\n",
       "      <td>1</td>\n",
       "    </tr>\n",
       "  </tbody>\n",
       "</table>\n",
       "</div>"
      ],
      "text/plain": [
       "   age  sex  cp  trestbps  chol  fbs  restecg  thalach  exang  oldpeak  slope  \\\n",
       "0   63    1   3       145   233    1        0      150      0      2.3      0   \n",
       "1   37    1   2       130   250    0        1      187      0      3.5      0   \n",
       "2   41    0   1       130   204    0        0      172      0      1.4      2   \n",
       "3   56    1   1       120   236    0        1      178      0      0.8      2   \n",
       "4   57    0   0       120   354    0        1      163      1      0.6      2   \n",
       "5   57    1   0       140   192    0        1      148      0      0.4      1   \n",
       "6   56    0   1       140   294    0        0      153      0      1.3      1   \n",
       "7   44    1   1       120   263    0        1      173      0      0.0      2   \n",
       "8   52    1   2       172   199    1        1      162      0      0.5      2   \n",
       "9   57    1   2       150   168    0        1      174      0      1.6      2   \n",
       "\n",
       "   ca  thal  target  \n",
       "0   0     1       1  \n",
       "1   0     2       1  \n",
       "2   0     2       1  \n",
       "3   0     2       1  \n",
       "4   0     2       1  \n",
       "5   0     1       1  \n",
       "6   0     2       1  \n",
       "7   0     3       1  \n",
       "8   0     3       1  \n",
       "9   0     2       1  "
      ]
     },
     "execution_count": 3,
     "metadata": {},
     "output_type": "execute_result"
    }
   ],
   "source": [
    "dataset.head(10)"
   ]
  },
  {
   "cell_type": "code",
   "execution_count": 4,
   "metadata": {},
   "outputs": [
    {
     "name": "stdout",
     "output_type": "stream",
     "text": [
      "<class 'pandas.core.frame.DataFrame'>\n",
      "RangeIndex: 303 entries, 0 to 302\n",
      "Data columns (total 14 columns):\n",
      "age         303 non-null int64\n",
      "sex         303 non-null int64\n",
      "cp          303 non-null int64\n",
      "trestbps    303 non-null int64\n",
      "chol        303 non-null int64\n",
      "fbs         303 non-null int64\n",
      "restecg     303 non-null int64\n",
      "thalach     303 non-null int64\n",
      "exang       303 non-null int64\n",
      "oldpeak     303 non-null float64\n",
      "slope       303 non-null int64\n",
      "ca          303 non-null int64\n",
      "thal        303 non-null int64\n",
      "target      303 non-null int64\n",
      "dtypes: float64(1), int64(13)\n",
      "memory usage: 33.2 KB\n"
     ]
    }
   ],
   "source": [
    "dataset.info()"
   ]
  },
  {
   "cell_type": "code",
   "execution_count": 5,
   "metadata": {},
   "outputs": [
    {
     "data": {
      "text/plain": [
       "age         0\n",
       "sex         0\n",
       "cp          0\n",
       "trestbps    0\n",
       "chol        0\n",
       "fbs         0\n",
       "restecg     0\n",
       "thalach     0\n",
       "exang       0\n",
       "oldpeak     0\n",
       "slope       0\n",
       "ca          0\n",
       "thal        0\n",
       "target      0\n",
       "dtype: int64"
      ]
     },
     "execution_count": 5,
     "metadata": {},
     "output_type": "execute_result"
    }
   ],
   "source": [
    "dataset.isnull().sum()"
   ]
  },
  {
   "cell_type": "code",
   "execution_count": 6,
   "metadata": {},
   "outputs": [
    {
     "name": "stdout",
     "output_type": "stream",
     "text": [
      "No of patients in original data:303\n"
     ]
    }
   ],
   "source": [
    "print(\"No of patients in original data:\" +str(len(dataset.index)))"
   ]
  },
  {
   "cell_type": "markdown",
   "metadata": {},
   "source": [
    "# Data Analysis"
   ]
  },
  {
   "cell_type": "code",
   "execution_count": 7,
   "metadata": {},
   "outputs": [
    {
     "data": {
      "text/plain": [
       "array([[<matplotlib.axes._subplots.AxesSubplot object at 0x00000222037EEB00>,\n",
       "        <matplotlib.axes._subplots.AxesSubplot object at 0x0000022203AE7BE0>,\n",
       "        <matplotlib.axes._subplots.AxesSubplot object at 0x0000022203B1B2B0>,\n",
       "        <matplotlib.axes._subplots.AxesSubplot object at 0x0000022203B40940>],\n",
       "       [<matplotlib.axes._subplots.AxesSubplot object at 0x0000022203B69FD0>,\n",
       "        <matplotlib.axes._subplots.AxesSubplot object at 0x0000022203B72048>,\n",
       "        <matplotlib.axes._subplots.AxesSubplot object at 0x0000022203BC3D30>,\n",
       "        <matplotlib.axes._subplots.AxesSubplot object at 0x0000022203BF4400>],\n",
       "       [<matplotlib.axes._subplots.AxesSubplot object at 0x0000022203C1BA90>,\n",
       "        <matplotlib.axes._subplots.AxesSubplot object at 0x0000022203C4F160>,\n",
       "        <matplotlib.axes._subplots.AxesSubplot object at 0x0000022203C737F0>,\n",
       "        <matplotlib.axes._subplots.AxesSubplot object at 0x0000022203C9EE80>],\n",
       "       [<matplotlib.axes._subplots.AxesSubplot object at 0x0000022203CCE550>,\n",
       "        <matplotlib.axes._subplots.AxesSubplot object at 0x0000022203CF5BE0>,\n",
       "        <matplotlib.axes._subplots.AxesSubplot object at 0x0000022203D252B0>,\n",
       "        <matplotlib.axes._subplots.AxesSubplot object at 0x0000022203D4F940>]],\n",
       "      dtype=object)"
      ]
     },
     "execution_count": 7,
     "metadata": {},
     "output_type": "execute_result"
    },
    {
     "data": {
      "image/png": "[encoded data removed]",
      "text/plain": [
       "<Figure size 1872x1152 with 16 Axes>"
      ]
     },
     "metadata": {
      "needs_background": "light"
     },
     "output_type": "display_data"
    }
   ],
   "source": [
    "dataset.hist(figsize=(26,16))"
   ]
  },
  {
   "cell_type": "code",
   "execution_count": 8,
   "metadata": {
    "scrolled": true
   },
   "outputs": [
    {
     "data": {
      "image/png": "[encoded data removed]",
      "text/plain": [
       "<Figure size 1080x720 with 1 Axes>"
      ]
     },
     "metadata": {
      "needs_background": "light"
     },
     "output_type": "display_data"
    }
   ],
   "source": [
    "# Heart disease frequency by age\n",
    "plt.figure(figsize=(15, 10))\n",
    "sns.countplot(x='age', hue='target', data=dataset, palette=['green', 'red'])\n",
    "plt.legend([\"No Disease\", \"Have Disease\"])\n",
    "plt.title('Heart Disease Frequency for Ages')\n",
    "plt.xlabel('Age')\n",
    "plt.ylabel('Frequency')\n",
    "plt.show()"
   ]
  },
  {
   "cell_type": "code",
   "execution_count": 9,
   "metadata": {},
   "outputs": [
    {
     "data": {
      "image/png": "[encoded data removed]",
      "text/plain": [
       "<Figure size 432x288 with 1 Axes>"
      ]
     },
     "metadata": {
      "needs_background": "light"
     },
     "output_type": "display_data"
    }
   ],
   "source": [
    "# Maximum heart rate vs age\n",
    "plt.scatter(x=dataset.age[dataset.target==1], y=dataset.thalach[(dataset.target==1)], c=\"red\")\n",
    "plt.scatter(x=dataset.age[dataset.target==0], y=dataset.thalach[(dataset.target==0)], c = 'blue')\n",
    "plt.legend([\"Disease\", \"Not Disease\"])\n",
    "plt.xlabel(\"Age\")\n",
    "plt.ylabel(\"Maximum Heart Rate\")\n",
    "plt.title(\"Maximum Heart Rate vs Age\")\n",
    "plt.show()"
   ]
  },
  {
   "cell_type": "code",
   "execution_count": 12,
   "metadata": {
    "scrolled": true
   },
   "outputs": [
    {
     "data": {
      "image/png": "[encoded data removed]",
      "text/plain": [
       "<Figure size 720x288 with 1 Axes>"
      ]
     },
     "metadata": {
      "needs_background": "light"
     },
     "output_type": "display_data"
    }
   ],
   "source": [
    "# Frequency of Chest pain type\n",
    "pd.crosstab(dataset.cp,dataset.target).plot(kind=\"bar\",figsize=(10,4),color=['red','blue' ])\n",
    "plt.title('Heart Disease Frequency by Chest Pain Type')\n",
    "plt.xlabel('Chest Pain Type')\n",
    "plt.xticks(rotation=0)\n",
    "plt.legend([\"Haven't Disease\", \"Have Disease\"])\n",
    "plt.ylabel('Frequency')\n",
    "plt.show()"
   ]
  },
  {
   "cell_type": "code",
   "execution_count": 13,
   "metadata": {},
   "outputs": [
    {
     "data": {
      "image/png": "[encoded data removed]",
      "text/plain": [
       "<Figure size 720x288 with 1 Axes>"
      ]
     },
     "metadata": {
      "needs_background": "light"
     },
     "output_type": "display_data"
    }
   ],
   "source": [
    "# Frequency by slope\n",
    "pd.crosstab(dataset.slope,dataset.target).plot(kind=\"bar\",figsize=(10,4),color=['red','blue' ])\n",
    "plt.title('Heart Disease Frequency by slope')\n",
    "plt.xlabel('Slope')\n",
    "plt.xticks(rotation=0)\n",
    "plt.legend([\"Haven't Disease\", \"Have Disease\"])\n",
    "plt.ylabel('Frequency')\n",
    "plt.show()"
   ]
  },
  {
   "cell_type": "code",
   "execution_count": 14,
   "metadata": {},
   "outputs": [
    {
     "name": "stdout",
     "output_type": "stream",
     "text": [
      "               age       sex        cp  trestbps      chol       fbs  \\\n",
      "age       1.000000 -0.098447 -0.068653  0.279351  0.213678  0.121308   \n",
      "sex      -0.098447  1.000000 -0.049353 -0.056769 -0.197912  0.045032   \n",
      "cp       -0.068653 -0.049353  1.000000  0.047608 -0.076904  0.094444   \n",
      "trestbps  0.279351 -0.056769  0.047608  1.000000  0.123174  0.177531   \n",
      "chol      0.213678 -0.197912 -0.076904  0.123174  1.000000  0.013294   \n",
      "fbs       0.121308  0.045032  0.094444  0.177531  0.013294  1.000000   \n",
      "restecg  -0.116211 -0.058196  0.044421 -0.114103 -0.151040 -0.084189   \n",
      "thalach  -0.398522 -0.044020  0.295762 -0.046698 -0.009940 -0.008567   \n",
      "exang     0.096801  0.141664 -0.394280  0.067616  0.067023  0.025665   \n",
      "oldpeak   0.210013  0.096093 -0.149230  0.193216  0.053952  0.005747   \n",
      "slope    -0.168814 -0.030711  0.119717 -0.121475 -0.004038 -0.059894   \n",
      "ca        0.276326  0.118261 -0.181053  0.101389  0.070511  0.137979   \n",
      "thal      0.068001  0.210041 -0.161736  0.062210  0.098803 -0.032019   \n",
      "target   -0.225439 -0.280937  0.433798 -0.144931 -0.085239 -0.028046   \n",
      "\n",
      "           restecg   thalach     exang   oldpeak     slope        ca  \\\n",
      "age      -0.116211 -0.398522  0.096801  0.210013 -0.168814  0.276326   \n",
      "sex      -0.058196 -0.044020  0.141664  0.096093 -0.030711  0.118261   \n",
      "cp        0.044421  0.295762 -0.394280 -0.149230  0.119717 -0.181053   \n",
      "trestbps -0.114103 -0.046698  0.067616  0.193216 -0.121475  0.101389   \n",
      "chol     -0.151040 -0.009940  0.067023  0.053952 -0.004038  0.070511   \n",
      "fbs      -0.084189 -0.008567  0.025665  0.005747 -0.059894  0.137979   \n",
      "restecg   1.000000  0.044123 -0.070733 -0.058770  0.093045 -0.072042   \n",
      "thalach   0.044123  1.000000 -0.378812 -0.344187  0.386784 -0.213177   \n",
      "exang    -0.070733 -0.378812  1.000000  0.288223 -0.257748  0.115739   \n",
      "oldpeak  -0.058770 -0.344187  0.288223  1.000000 -0.577537  0.222682   \n",
      "slope     0.093045  0.386784 -0.257748 -0.577537  1.000000 -0.080155   \n",
      "ca       -0.072042 -0.213177  0.115739  0.222682 -0.080155  1.000000   \n",
      "thal     -0.011981 -0.096439  0.206754  0.210244 -0.104764  0.151832   \n",
      "target    0.137230  0.421741 -0.436757 -0.430696  0.345877 -0.391724   \n",
      "\n",
      "              thal    target  \n",
      "age       0.068001 -0.225439  \n",
      "sex       0.210041 -0.280937  \n",
      "cp       -0.161736  0.433798  \n",
      "trestbps  0.062210 -0.144931  \n",
      "chol      0.098803 -0.085239  \n",
      "fbs      -0.032019 -0.028046  \n",
      "restecg  -0.011981  0.137230  \n",
      "thalach  -0.096439  0.421741  \n",
      "exang     0.206754 -0.436757  \n",
      "oldpeak   0.210244 -0.430696  \n",
      "slope    -0.104764  0.345877  \n",
      "ca        0.151832 -0.391724  \n",
      "thal      1.000000 -0.344029  \n",
      "target   -0.344029  1.000000  \n"
     ]
    }
   ],
   "source": [
    "corr = dataset.corr()\n",
    "print(corr)"
   ]
  },
  {
   "cell_type": "code",
   "execution_count": 15,
   "metadata": {},
   "outputs": [
    {
     "data": {
      "text/plain": [
       "<matplotlib.axes._subplots.AxesSubplot at 0x22203f8f6d8>"
      ]
     },
     "execution_count": 15,
     "metadata": {},
     "output_type": "execute_result"
    },
    {
     "data": {
      "image/png": "[encoded data removed]",
      "text/plain": [
       "<Figure size 432x288 with 2 Axes>"
      ]
     },
     "metadata": {
      "needs_background": "light"
     },
     "output_type": "display_data"
    }
   ],
   "source": [
    "sns.heatmap(corr, xticklabels = corr.columns, yticklabels = corr.columns)"
   ]
  },
  {
   "cell_type": "code",
   "execution_count": null,
   "metadata": {},
   "outputs": [],
   "source": [
    "# Find independent variables\n",
    "X = dataset.iloc[:,:-1].values"
   ]
  },
  {
   "cell_type": "code",
   "execution_count": null,
   "metadata": {},
   "outputs": [],
   "source": [
    "print(X)"
   ]
  },
  {
   "cell_type": "code",
   "execution_count": null,
   "metadata": {},
   "outputs": [],
   "source": [
    "# Find dependent variables\n",
    "y = dataset.iloc[:,13].values"
   ]
  },
  {
   "cell_type": "code",
   "execution_count": null,
   "metadata": {},
   "outputs": [],
   "source": [
    "y"
   ]
  },
  {
   "cell_type": "code",
   "execution_count": null,
   "metadata": {},
   "outputs": [],
   "source": [
    "from sklearn.model_selection import train_test_split\n",
    "X_train, X_test, y_train, y_test = train_test_split(X, y, test_size = 0.20, random_state = 42)"
   ]
  },
  {
   "cell_type": "code",
   "execution_count": null,
   "metadata": {},
   "outputs": [],
   "source": [
    "from sklearn.preprocessing import StandardScaler\n",
    "sc_X = StandardScaler()\n",
    "X1_train = sc_X.fit_transform(X_train)\n",
    "X1_test = sc_X.transform(X_test)"
   ]
  },
  {
   "cell_type": "markdown",
   "metadata": {},
   "source": [
    "# K Nearest Neighbour"
   ]
  },
  {
   "cell_type": "code",
   "execution_count": null,
   "metadata": {},
   "outputs": [],
   "source": [
    "from sklearn.neighbors import KNeighborsClassifier\n",
    "error_rate = []\n",
    "for k in range(1,21):\n",
    "    knn_classifier = KNeighborsClassifier(n_neighbors = k,metric = 'minkowski', p=2, weights ='uniform')\n",
    "    # n_neighbors - Number of neighbors to use, weights - ‘uniform’ : uniform weights. All points in each neighborhood are weighted equally.\n",
    "    # metric - the distance metric to use for the tree. The default metric is minkowski, and with p=2 is equivalent to the standard Euclidean metric. \n",
    "    knn_classifier.fit(X1_train, y_train)\n",
    "    knn_y_pred=knn_classifier.predict(X1_test)\n",
    "    error_rate.append(np.mean(knn_y_pred !=y_test))\n",
    "#predicting error for every k value   \n",
    "plt.figure(figsize=(15,9))\n",
    "plt.plot(range(1,21),error_rate,color='blue',linestyle='dashed',marker=\n",
    "'o',markerfacecolor='red',markersize=8)\n",
    "plt.title('Error Rate Vs K Value')\n",
    "plt.xlabel('K')\n",
    "plt.ylabel('Error Rate')"
   ]
  },
  {
   "cell_type": "code",
   "execution_count": null,
   "metadata": {},
   "outputs": [],
   "source": [
    "min_error = min(error_rate)\n",
    "print(min_error)\n",
    "optimal_k = error_rate.index(min(error_rate))+1\n",
    "print(optimal_k)"
   ]
  },
  {
   "cell_type": "code",
   "execution_count": null,
   "metadata": {},
   "outputs": [],
   "source": [
    "knn_classifier =KNeighborsClassifier(n_neighbors=optimal_k,metric = 'minkowski', p=2, weights ='uniform')\n",
    "knn_classifier.fit(X1_train,y_train)"
   ]
  },
  {
   "cell_type": "code",
   "execution_count": null,
   "metadata": {},
   "outputs": [],
   "source": [
    "knn_y_pred =knn_classifier.predict(X1_test)"
   ]
  },
  {
   "cell_type": "code",
   "execution_count": null,
   "metadata": {},
   "outputs": [],
   "source": [
    "#Making the Confusion Matrix\n",
    "from sklearn.metrics import confusion_matrix\n",
    "cm = confusion_matrix(y_test,knn_y_pred)\n",
    "print(cm)\n",
    "\n",
    "# True Positive (TP) : Observation is positive, and is predicted to be positive. (bottom right)\n",
    "# False Negative (FN) : Observation is positive, but is predicted negative. (botttom left)\n",
    "# True Negative (TN) : Observation is negative, and is predicted to be negative.(top left)\n",
    "# False Positive (FP) : Observation is negative, but is predicted positive. (top right)"
   ]
  },
  {
   "cell_type": "code",
   "execution_count": null,
   "metadata": {},
   "outputs": [],
   "source": [
    "print('Accuracy of k nearest neighbors classifier on test set: {:.2f}'.format(knn_classifier.score(X1_test, y_test)))"
   ]
  },
  {
   "cell_type": "code",
   "execution_count": null,
   "metadata": {},
   "outputs": [],
   "source": [
    "dataset_X_test= pd.DataFrame(X_test,columns = ['age','sex','cp','trestbps','chol','fbs','restecg','thalach','exang','oldpeak','slope','ca','thal'])\n",
    "dataset_X_test"
   ]
  },
  {
   "cell_type": "code",
   "execution_count": null,
   "metadata": {},
   "outputs": [],
   "source": [
    "dataset_X_test.insert(13, \"original target\",y_test)\n",
    "dataset_X_test"
   ]
  },
  {
   "cell_type": "code",
   "execution_count": null,
   "metadata": {},
   "outputs": [],
   "source": [
    "dataset_X_test.insert(14, \"knn_predicted_target\",knn_y_pred)\n",
    "dataset_X_test"
   ]
  },
  {
   "cell_type": "markdown",
   "metadata": {},
   "source": [
    "# SVM"
   ]
  },
  {
   "cell_type": "code",
   "execution_count": null,
   "metadata": {},
   "outputs": [],
   "source": [
    "from sklearn.svm import SVC\n",
    "svm_accuracy = []\n",
    "kernels = ['linear', 'poly', 'rbf', 'sigmoid']\n",
    "for i in range(len(kernels)):\n",
    "    svm_classifier = SVC(kernel = kernels[i], random_state = 42, gamma = 'auto')\n",
    "    # kernel - Specifies the kernel type to be used in the algorithm. \n",
    "    svm_classifier.fit(X1_train,y_train)\n",
    "    svm_y_pred = svm_classifier.predict(X1_test)\n",
    "    svm_accuracy.append(svm_classifier.score(X1_test, y_test))"
   ]
  },
  {
   "cell_type": "code",
   "execution_count": null,
   "metadata": {},
   "outputs": [],
   "source": [
    "plt.figure(figsize=(15,9))\n",
    "plt.bar(kernels, svm_accuracy, align = 'center')\n",
    "for i in range(len(kernels)):\n",
    "    plt.text(i, svm_accuracy[i],svm_accuracy[i])\n",
    "plt.xlabel('Kernels')\n",
    "plt.ylabel('Scores')\n",
    "plt.title('Support Vector Classifier scores for different kernels')"
   ]
  },
  {
   "cell_type": "code",
   "execution_count": null,
   "metadata": {},
   "outputs": [],
   "source": [
    "max_accuracy = max(svm_accuracy)\n",
    "print(max_accuracy)\n",
    "optimal_kernel = kernels[svm_accuracy.index(max(svm_accuracy))]\n",
    "print(optimal_kernel)"
   ]
  },
  {
   "cell_type": "code",
   "execution_count": null,
   "metadata": {},
   "outputs": [],
   "source": [
    "#Fittiing the classifier to the Training Set\n",
    "svm_classifier = SVC(kernel = optimal_kernel, random_state = 42)\n",
    "svm_classifier.fit(X1_train,y_train)"
   ]
  },
  {
   "cell_type": "code",
   "execution_count": null,
   "metadata": {},
   "outputs": [],
   "source": [
    "#Predicitng the Test Set results\n",
    "svm_y_pred = svm_classifier.predict(X1_test)"
   ]
  },
  {
   "cell_type": "code",
   "execution_count": null,
   "metadata": {},
   "outputs": [],
   "source": [
    "#Making the Confusion Matrix\n",
    "from sklearn.metrics import confusion_matrix\n",
    "cm = confusion_matrix(y_test,svm_y_pred)\n",
    "print(cm)"
   ]
  },
  {
   "cell_type": "code",
   "execution_count": null,
   "metadata": {},
   "outputs": [],
   "source": [
    "print('Accuracy of svm classifier on test set: {:.2f}'.format(svm_classifier.score(X1_test, y_test)))"
   ]
  },
  {
   "cell_type": "code",
   "execution_count": null,
   "metadata": {},
   "outputs": [],
   "source": [
    "dataset_X_test.insert(15, \"svm_predicted_target\",svm_y_pred)\n",
    "dataset_X_test"
   ]
  },
  {
   "cell_type": "markdown",
   "metadata": {},
   "source": [
    "## Testing Realtime Data"
   ]
  },
  {
   "cell_type": "code",
   "execution_count": null,
   "metadata": {},
   "outputs": [],
   "source": [
    "patient_age = int(input(\"Enter Patient Age (in years):  \"))\n",
    "patient_sex = int(input(\"Enter Patient Gender(1 = male; 0 = female):  \"))\n",
    "patient_cp = int(input(\"Enter Patient Chest Pain Type (0 = typical angina, 1 = atypical angina, 2 = non — anginal pain, 3 = asymptotic):  \"))\n",
    "patient_trestbps = int(input(\"Enter Patient Blood Pressure (in mmHg )(normal:- 80/140):  \"))\n",
    "patient_chol = int(input(\"Enter Patient Cholestrol (in mg/dl ) (normal:- around 200):  \"))\n",
    "patient_fbs = int(input(\"Enter Patient Fasting blood sugar (fasting blood sugar > 120 mg/dl 1 = true; 0 = false ):  \"))\n",
    "patient_restecg = int(input(\"Enter Patient resting electrocardiographic results (0 = normal, 1 = having ST-T wave abnormality, 2 = left ventricular hyperthrophy):  \"))\n",
    "patient_thalach = int(input(\"Enter Patient max heart rate achieved: (Normal: 80-110):  \"))\n",
    "patient_exang = int(input(\"Enter Patient Exercise induced angina(1 = yes, 0 = no):  \"))\n",
    "patient_oldpeak = float(input(\"Enter ST depression induced by exercise relative to rest ( 0 - 4):  \"))\n",
    "patient_slope = int(input(\"Enter Peak exercise ST segment  (0 = upsloping, 1 = flat,2 = downsloping):  \"))\n",
    "patient_ca = int(input(\"Enter Number of major vessels (0–3) colored by flourosopy:  \"))\n",
    "patient_thal = int(input(\"Enter patient thalassemia (1 = normal, 2 = fixed defect, 3 = reversible defect):  \"))\n",
    "\n",
    "patient_data = {'age':  [patient_age],\n",
    "                 'sex':  [patient_sex],\n",
    "                 'cp':  [patient_cp],\n",
    "                 'trestbps':  [patient_trestbps],\n",
    "                 'chol':  [patient_chol],\n",
    "                 'fbs':  [patient_fbs],\n",
    "                 'restecg':  [patient_restecg],\n",
    "                 'thalach':  [patient_thalach],\n",
    "                 'exang':  [patient_exang],\n",
    "                 'oldpeak':  [patient_oldpeak],\n",
    "                 'slope':  [patient_slope],\n",
    "                 'ca':  [patient_ca],\n",
    "                 'thal':  [patient_thal],}\n",
    "\n",
    "patient_dataset = pd.DataFrame (patient_data, columns = ['age','sex','cp','trestbps','chol','fbs','restecg','thalach','exang','oldpeak','slope','ca','thal'])\n",
    "\n",
    "patient_X = patient_dataset.iloc[:,:].values\n",
    "patient_data1 = sc_X.transform(patient_X)\n",
    "knn_patient_target = knn_classifier.predict(patient_data1) \n",
    "svm_patient_target = svm_classifier.predict(patient_data1)\n",
    "\n",
    "patient_dataset.insert(13, \"knn_predicted_target\",knn_patient_target)\n",
    "patient_dataset.insert(14, \"svm_predicted_target\",svm_patient_target)\n",
    "\n",
    "if knn_patient_target == 1 and svm_patient_target == 1 :\n",
    "    result = \"Patient have heart disease\"\n",
    "elif knn_patient_target == 0 and svm_patient_target == 0 :\n",
    "    result = \"Patient have no heart disease\"\n",
    "else :\n",
    "    result = \"Patient have a possibility of heart disease\"\n",
    "\n",
    "patient_dataset.insert(15, \"result\", result)\n",
    "patient_dataset"
   ]
  },
  {
   "cell_type": "code",
   "execution_count": null,
   "metadata": {},
   "outputs": [],
   "source": []
  },
  {
   "cell_type": "code",
   "execution_count": null,
   "metadata": {},
   "outputs": [],
   "source": []
  }
 ],
 "metadata": {
  "kernelspec": {
   "display_name": "Python 3",
   "language": "python",
   "name": "python3"
  },
  "language_info": {
   "codemirror_mode": {
    "name": "ipython",
    "version": 3
   },
   "file_extension": ".py",
   "mimetype": "text/x-python",
   "name": "python",
   "nbconvert_exporter": "python",
   "pygments_lexer": "ipython3",
   "version": "3.7.1"
  }
 },
 "nbformat": 4,
 "nbformat_minor": 2
}
